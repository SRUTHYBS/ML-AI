{
  "nbformat": 4,
  "nbformat_minor": 0,
  "metadata": {
    "colab": {
      "name": "Casestudy NN AND HPT.ipynb",
      "provenance": []
    },
    "kernelspec": {
      "name": "python3",
      "display_name": "Python 3"
    },
    "language_info": {
      "name": "python"
    }
  },
  "cells": [
    {
      "cell_type": "code",
      "execution_count": null,
      "metadata": {
        "id": "O3vSdgASQr1p"
      },
      "outputs": [],
      "source": [
        "# first neural network with keras tutorial\n",
        "from numpy import loadtxt\n",
        "from tensorflow.keras.models import Sequential\n",
        "from tensorflow.keras.layers import Dense"
      ]
    },
    {
      "cell_type": "code",
      "source": [
        "import pandas as pd"
      ],
      "metadata": {
        "id": "o4c7fuguh-PZ"
      },
      "execution_count": null,
      "outputs": []
    },
    {
      "cell_type": "code",
      "source": [
        "dataset = pd.read_csv('magic_gamma_telescope04_.csv')"
      ],
      "metadata": {
        "id": "amgdaDrBiUC1"
      },
      "execution_count": null,
      "outputs": []
    },
    {
      "cell_type": "code",
      "source": [
        "dataset.head()"
      ],
      "metadata": {
        "colab": {
          "base_uri": "https://localhost:8080/",
          "height": 206
        },
        "id": "Wx2CCbbDiYmn",
        "outputId": "10e8204f-23ec-47f3-9ad4-da8084298f1d"
      },
      "execution_count": null,
      "outputs": [
        {
          "output_type": "execute_result",
          "data": {
            "text/plain": [
              "    flength    fwidth   fsize   fconc  fconc1      fsym  fm3long  fm3trans  \\\n",
              "0   28.7967   16.0021  2.6449  0.3918  0.1982   27.7004  22.0110   -8.2027   \n",
              "1   31.6036   11.7235  2.5185  0.5303  0.3773   26.2722  23.8238   -9.9574   \n",
              "2  162.0520  136.0310  4.0612  0.0374  0.0187  116.7410 -64.8580  -45.2160   \n",
              "3   23.8172    9.5728  2.3385  0.6147  0.3922   27.2107  -6.4633   -7.1513   \n",
              "4   75.1362   30.9205  3.1611  0.3168  0.1832   -5.5277  28.5525   21.8393   \n",
              "\n",
              "    falpha      dist class  \n",
              "0  40.0920   81.8828     g  \n",
              "1   6.3609  205.2610     g  \n",
              "2  76.9600  256.7880     g  \n",
              "3  10.4490  116.7370     g  \n",
              "4   4.6480  356.4620     g  "
            ],
            "text/html": [
              "\n",
              "  <div id=\"df-6a609068-2043-4915-8074-2e0ba5b34575\">\n",
              "    <div class=\"colab-df-container\">\n",
              "      <div>\n",
              "<style scoped>\n",
              "    .dataframe tbody tr th:only-of-type {\n",
              "        vertical-align: middle;\n",
              "    }\n",
              "\n",
              "    .dataframe tbody tr th {\n",
              "        vertical-align: top;\n",
              "    }\n",
              "\n",
              "    .dataframe thead th {\n",
              "        text-align: right;\n",
              "    }\n",
              "</style>\n",
              "<table border=\"1\" class=\"dataframe\">\n",
              "  <thead>\n",
              "    <tr style=\"text-align: right;\">\n",
              "      <th></th>\n",
              "      <th>flength</th>\n",
              "      <th>fwidth</th>\n",
              "      <th>fsize</th>\n",
              "      <th>fconc</th>\n",
              "      <th>fconc1</th>\n",
              "      <th>fsym</th>\n",
              "      <th>fm3long</th>\n",
              "      <th>fm3trans</th>\n",
              "      <th>falpha</th>\n",
              "      <th>dist</th>\n",
              "      <th>class</th>\n",
              "    </tr>\n",
              "  </thead>\n",
              "  <tbody>\n",
              "    <tr>\n",
              "      <th>0</th>\n",
              "      <td>28.7967</td>\n",
              "      <td>16.0021</td>\n",
              "      <td>2.6449</td>\n",
              "      <td>0.3918</td>\n",
              "      <td>0.1982</td>\n",
              "      <td>27.7004</td>\n",
              "      <td>22.0110</td>\n",
              "      <td>-8.2027</td>\n",
              "      <td>40.0920</td>\n",
              "      <td>81.8828</td>\n",
              "      <td>g</td>\n",
              "    </tr>\n",
              "    <tr>\n",
              "      <th>1</th>\n",
              "      <td>31.6036</td>\n",
              "      <td>11.7235</td>\n",
              "      <td>2.5185</td>\n",
              "      <td>0.5303</td>\n",
              "      <td>0.3773</td>\n",
              "      <td>26.2722</td>\n",
              "      <td>23.8238</td>\n",
              "      <td>-9.9574</td>\n",
              "      <td>6.3609</td>\n",
              "      <td>205.2610</td>\n",
              "      <td>g</td>\n",
              "    </tr>\n",
              "    <tr>\n",
              "      <th>2</th>\n",
              "      <td>162.0520</td>\n",
              "      <td>136.0310</td>\n",
              "      <td>4.0612</td>\n",
              "      <td>0.0374</td>\n",
              "      <td>0.0187</td>\n",
              "      <td>116.7410</td>\n",
              "      <td>-64.8580</td>\n",
              "      <td>-45.2160</td>\n",
              "      <td>76.9600</td>\n",
              "      <td>256.7880</td>\n",
              "      <td>g</td>\n",
              "    </tr>\n",
              "    <tr>\n",
              "      <th>3</th>\n",
              "      <td>23.8172</td>\n",
              "      <td>9.5728</td>\n",
              "      <td>2.3385</td>\n",
              "      <td>0.6147</td>\n",
              "      <td>0.3922</td>\n",
              "      <td>27.2107</td>\n",
              "      <td>-6.4633</td>\n",
              "      <td>-7.1513</td>\n",
              "      <td>10.4490</td>\n",
              "      <td>116.7370</td>\n",
              "      <td>g</td>\n",
              "    </tr>\n",
              "    <tr>\n",
              "      <th>4</th>\n",
              "      <td>75.1362</td>\n",
              "      <td>30.9205</td>\n",
              "      <td>3.1611</td>\n",
              "      <td>0.3168</td>\n",
              "      <td>0.1832</td>\n",
              "      <td>-5.5277</td>\n",
              "      <td>28.5525</td>\n",
              "      <td>21.8393</td>\n",
              "      <td>4.6480</td>\n",
              "      <td>356.4620</td>\n",
              "      <td>g</td>\n",
              "    </tr>\n",
              "  </tbody>\n",
              "</table>\n",
              "</div>\n",
              "      <button class=\"colab-df-convert\" onclick=\"convertToInteractive('df-6a609068-2043-4915-8074-2e0ba5b34575')\"\n",
              "              title=\"Convert this dataframe to an interactive table.\"\n",
              "              style=\"display:none;\">\n",
              "        \n",
              "  <svg xmlns=\"http://www.w3.org/2000/svg\" height=\"24px\"viewBox=\"0 0 24 24\"\n",
              "       width=\"24px\">\n",
              "    <path d=\"M0 0h24v24H0V0z\" fill=\"none\"/>\n",
              "    <path d=\"M18.56 5.44l.94 2.06.94-2.06 2.06-.94-2.06-.94-.94-2.06-.94 2.06-2.06.94zm-11 1L8.5 8.5l.94-2.06 2.06-.94-2.06-.94L8.5 2.5l-.94 2.06-2.06.94zm10 10l.94 2.06.94-2.06 2.06-.94-2.06-.94-.94-2.06-.94 2.06-2.06.94z\"/><path d=\"M17.41 7.96l-1.37-1.37c-.4-.4-.92-.59-1.43-.59-.52 0-1.04.2-1.43.59L10.3 9.45l-7.72 7.72c-.78.78-.78 2.05 0 2.83L4 21.41c.39.39.9.59 1.41.59.51 0 1.02-.2 1.41-.59l7.78-7.78 2.81-2.81c.8-.78.8-2.07 0-2.86zM5.41 20L4 18.59l7.72-7.72 1.47 1.35L5.41 20z\"/>\n",
              "  </svg>\n",
              "      </button>\n",
              "      \n",
              "  <style>\n",
              "    .colab-df-container {\n",
              "      display:flex;\n",
              "      flex-wrap:wrap;\n",
              "      gap: 12px;\n",
              "    }\n",
              "\n",
              "    .colab-df-convert {\n",
              "      background-color: #E8F0FE;\n",
              "      border: none;\n",
              "      border-radius: 50%;\n",
              "      cursor: pointer;\n",
              "      display: none;\n",
              "      fill: #1967D2;\n",
              "      height: 32px;\n",
              "      padding: 0 0 0 0;\n",
              "      width: 32px;\n",
              "    }\n",
              "\n",
              "    .colab-df-convert:hover {\n",
              "      background-color: #E2EBFA;\n",
              "      box-shadow: 0px 1px 2px rgba(60, 64, 67, 0.3), 0px 1px 3px 1px rgba(60, 64, 67, 0.15);\n",
              "      fill: #174EA6;\n",
              "    }\n",
              "\n",
              "    [theme=dark] .colab-df-convert {\n",
              "      background-color: #3B4455;\n",
              "      fill: #D2E3FC;\n",
              "    }\n",
              "\n",
              "    [theme=dark] .colab-df-convert:hover {\n",
              "      background-color: #434B5C;\n",
              "      box-shadow: 0px 1px 3px 1px rgba(0, 0, 0, 0.15);\n",
              "      filter: drop-shadow(0px 1px 2px rgba(0, 0, 0, 0.3));\n",
              "      fill: #FFFFFF;\n",
              "    }\n",
              "  </style>\n",
              "\n",
              "      <script>\n",
              "        const buttonEl =\n",
              "          document.querySelector('#df-6a609068-2043-4915-8074-2e0ba5b34575 button.colab-df-convert');\n",
              "        buttonEl.style.display =\n",
              "          google.colab.kernel.accessAllowed ? 'block' : 'none';\n",
              "\n",
              "        async function convertToInteractive(key) {\n",
              "          const element = document.querySelector('#df-6a609068-2043-4915-8074-2e0ba5b34575');\n",
              "          const dataTable =\n",
              "            await google.colab.kernel.invokeFunction('convertToInteractive',\n",
              "                                                     [key], {});\n",
              "          if (!dataTable) return;\n",
              "\n",
              "          const docLinkHtml = 'Like what you see? Visit the ' +\n",
              "            '<a target=\"_blank\" href=https://colab.research.google.com/notebooks/data_table.ipynb>data table notebook</a>'\n",
              "            + ' to learn more about interactive tables.';\n",
              "          element.innerHTML = '';\n",
              "          dataTable['output_type'] = 'display_data';\n",
              "          await google.colab.output.renderOutput(dataTable, element);\n",
              "          const docLink = document.createElement('div');\n",
              "          docLink.innerHTML = docLinkHtml;\n",
              "          element.appendChild(docLink);\n",
              "        }\n",
              "      </script>\n",
              "    </div>\n",
              "  </div>\n",
              "  "
            ]
          },
          "metadata": {},
          "execution_count": 81
        }
      ]
    },
    {
      "cell_type": "code",
      "source": [
        "from sklearn.preprocessing import LabelEncoder\n",
        "le=LabelEncoder()\n",
        "dataset['class']=le.fit_transform(dataset['class'])"
      ],
      "metadata": {
        "id": "NhIJf9eFro6D"
      },
      "execution_count": null,
      "outputs": []
    },
    {
      "cell_type": "code",
      "source": [
        "dataset['class']"
      ],
      "metadata": {
        "colab": {
          "base_uri": "https://localhost:8080/"
        },
        "id": "wkxhi6IgsD01",
        "outputId": "593dcd19-64db-435a-8e49-ab5b8c9e9199"
      },
      "execution_count": null,
      "outputs": [
        {
          "output_type": "execute_result",
          "data": {
            "text/plain": [
              "0        0\n",
              "1        0\n",
              "2        0\n",
              "3        0\n",
              "4        0\n",
              "        ..\n",
              "19015    1\n",
              "19016    1\n",
              "19017    1\n",
              "19018    1\n",
              "19019    1\n",
              "Name: class, Length: 19020, dtype: int64"
            ]
          },
          "metadata": {},
          "execution_count": 128
        }
      ]
    },
    {
      "cell_type": "code",
      "source": [
        "# split into input (X) and output (y) variables\n",
        "X = dataset.iloc[:,0:10].values\n"
      ],
      "metadata": {
        "id": "kVwib3HsiZ3v"
      },
      "execution_count": null,
      "outputs": []
    },
    {
      "cell_type": "code",
      "source": [
        "X\n"
      ],
      "metadata": {
        "colab": {
          "base_uri": "https://localhost:8080/"
        },
        "id": "10eH2A_6jZpM",
        "outputId": "c0251aab-899d-43f7-8713-2085b97d36b0"
      },
      "execution_count": null,
      "outputs": [
        {
          "output_type": "execute_result",
          "data": {
            "text/plain": [
              "array([[ 28.7967,  16.0021,   2.6449, ...,  -8.2027,  40.092 ,  81.8828],\n",
              "       [ 31.6036,  11.7235,   2.5185, ...,  -9.9574,   6.3609, 205.261 ],\n",
              "       [162.052 , 136.031 ,   4.0612, ..., -45.216 ,  76.96  , 256.788 ],\n",
              "       ...,\n",
              "       [ 75.4455,  47.5305,   3.4483, ...,  -9.4662,  30.2987, 256.5166],\n",
              "       [120.5135,  76.9018,   3.9939, ..., -63.8389,  84.6874, 408.3166],\n",
              "       [187.1814,  53.0014,   3.2093, ...,  31.4755,  52.731 , 272.3174]])"
            ]
          },
          "metadata": {},
          "execution_count": 130
        }
      ]
    },
    {
      "cell_type": "code",
      "source": [
        "y = dataset.iloc[:,10]"
      ],
      "metadata": {
        "id": "arSwe2Ogi0Eg"
      },
      "execution_count": null,
      "outputs": []
    },
    {
      "cell_type": "code",
      "source": [
        "y"
      ],
      "metadata": {
        "colab": {
          "base_uri": "https://localhost:8080/"
        },
        "id": "w6z1ZmSxjYGo",
        "outputId": "640967f3-9bcf-43cf-bbbd-cfe2c3f56fa8"
      },
      "execution_count": null,
      "outputs": [
        {
          "output_type": "execute_result",
          "data": {
            "text/plain": [
              "0        0\n",
              "1        0\n",
              "2        0\n",
              "3        0\n",
              "4        0\n",
              "        ..\n",
              "19015    1\n",
              "19016    1\n",
              "19017    1\n",
              "19018    1\n",
              "19019    1\n",
              "Name: class, Length: 19020, dtype: int64"
            ]
          },
          "metadata": {},
          "execution_count": 132
        }
      ]
    },
    {
      "cell_type": "code",
      "source": [
        "# define the keras model\n",
        "model = Sequential()\n",
        "model.add(Dense(12, input_shape=(10,), activation='relu'))\n",
        "model.add(Dense(8, activation='relu'))\n",
        "model.add(Dense(1, activation='sigmoid'))"
      ],
      "metadata": {
        "id": "aj2ke2kEj8pv"
      },
      "execution_count": null,
      "outputs": []
    },
    {
      "cell_type": "code",
      "source": [
        "# compile the keras model\n",
        "model.compile(loss='binary_crossentropy',optimizer='adam', metrics=['accuracy'])"
      ],
      "metadata": {
        "id": "lyjaP1a-khIK"
      },
      "execution_count": null,
      "outputs": []
    },
    {
      "cell_type": "code",
      "source": [
        "# fit the keras model on the dataset\n",
        "model.fit(X, y, epochs=150, batch_size=10)"
      ],
      "metadata": {
        "colab": {
          "base_uri": "https://localhost:8080/"
        },
        "id": "69vLzDU1kojN",
        "outputId": "abff547b-95b8-4ddc-c141-62476c2f5a14"
      },
      "execution_count": null,
      "outputs": [
        {
          "output_type": "stream",
          "name": "stdout",
          "text": [
            "Epoch 1/150\n",
            "1902/1902 [==============================] - 4s 2ms/step - loss: 1.2153 - accuracy: 0.7124\n",
            "Epoch 2/150\n",
            "1902/1902 [==============================] - 3s 2ms/step - loss: 0.5411 - accuracy: 0.7646\n",
            "Epoch 3/150\n",
            "1902/1902 [==============================] - 3s 2ms/step - loss: 0.5053 - accuracy: 0.7784\n",
            "Epoch 4/150\n",
            "1902/1902 [==============================] - 3s 2ms/step - loss: 0.4838 - accuracy: 0.7897\n",
            "Epoch 5/150\n",
            "1902/1902 [==============================] - 3s 2ms/step - loss: 0.4594 - accuracy: 0.7973\n",
            "Epoch 6/150\n",
            "1902/1902 [==============================] - 3s 2ms/step - loss: 0.4443 - accuracy: 0.8054\n",
            "Epoch 7/150\n",
            "1902/1902 [==============================] - 3s 1ms/step - loss: 0.4351 - accuracy: 0.8096\n",
            "Epoch 8/150\n",
            "1902/1902 [==============================] - 3s 1ms/step - loss: 0.4312 - accuracy: 0.8069\n",
            "Epoch 9/150\n",
            "1902/1902 [==============================] - 3s 2ms/step - loss: 0.4296 - accuracy: 0.8057\n",
            "Epoch 10/150\n",
            "1902/1902 [==============================] - 3s 2ms/step - loss: 0.4338 - accuracy: 0.8072\n",
            "Epoch 11/150\n",
            "1902/1902 [==============================] - 3s 2ms/step - loss: 0.4236 - accuracy: 0.8121\n",
            "Epoch 12/150\n",
            "1902/1902 [==============================] - 3s 2ms/step - loss: 0.4226 - accuracy: 0.8131\n",
            "Epoch 13/150\n",
            "1902/1902 [==============================] - 3s 2ms/step - loss: 0.4187 - accuracy: 0.8126\n",
            "Epoch 14/150\n",
            "1902/1902 [==============================] - 3s 2ms/step - loss: 0.4197 - accuracy: 0.8145\n",
            "Epoch 15/150\n",
            "1902/1902 [==============================] - 3s 2ms/step - loss: 0.4159 - accuracy: 0.8159\n",
            "Epoch 16/150\n",
            "1902/1902 [==============================] - 4s 2ms/step - loss: 0.4136 - accuracy: 0.8159\n",
            "Epoch 17/150\n",
            "1902/1902 [==============================] - 3s 2ms/step - loss: 0.4118 - accuracy: 0.8178\n",
            "Epoch 18/150\n",
            "1902/1902 [==============================] - 3s 2ms/step - loss: 0.4117 - accuracy: 0.8184\n",
            "Epoch 19/150\n",
            "1902/1902 [==============================] - 3s 2ms/step - loss: 0.4059 - accuracy: 0.8235\n",
            "Epoch 20/150\n",
            "1902/1902 [==============================] - 3s 2ms/step - loss: 0.4043 - accuracy: 0.8199\n",
            "Epoch 21/150\n",
            "1902/1902 [==============================] - 3s 2ms/step - loss: 0.4029 - accuracy: 0.8215\n",
            "Epoch 22/150\n",
            "1902/1902 [==============================] - 3s 2ms/step - loss: 0.4014 - accuracy: 0.8227\n",
            "Epoch 23/150\n",
            "1902/1902 [==============================] - 3s 2ms/step - loss: 0.4013 - accuracy: 0.8232\n",
            "Epoch 24/150\n",
            "1902/1902 [==============================] - 3s 2ms/step - loss: 0.4001 - accuracy: 0.8249\n",
            "Epoch 25/150\n",
            "1902/1902 [==============================] - 3s 2ms/step - loss: 0.3993 - accuracy: 0.8255\n",
            "Epoch 26/150\n",
            "1902/1902 [==============================] - 3s 2ms/step - loss: 0.3974 - accuracy: 0.8256\n",
            "Epoch 27/150\n",
            "1902/1902 [==============================] - 3s 2ms/step - loss: 0.3954 - accuracy: 0.8271\n",
            "Epoch 28/150\n",
            "1902/1902 [==============================] - 3s 2ms/step - loss: 0.3925 - accuracy: 0.8290\n",
            "Epoch 29/150\n",
            "1902/1902 [==============================] - 3s 1ms/step - loss: 0.3945 - accuracy: 0.8270\n",
            "Epoch 30/150\n",
            "1902/1902 [==============================] - 3s 2ms/step - loss: 0.3892 - accuracy: 0.8308\n",
            "Epoch 31/150\n",
            "1902/1902 [==============================] - 3s 2ms/step - loss: 0.3891 - accuracy: 0.8299\n",
            "Epoch 32/150\n",
            "1902/1902 [==============================] - 3s 2ms/step - loss: 0.3893 - accuracy: 0.8303\n",
            "Epoch 33/150\n",
            "1902/1902 [==============================] - 3s 2ms/step - loss: 0.3855 - accuracy: 0.8288\n",
            "Epoch 34/150\n",
            "1902/1902 [==============================] - 3s 2ms/step - loss: 0.3852 - accuracy: 0.8304\n",
            "Epoch 35/150\n",
            "1902/1902 [==============================] - 3s 2ms/step - loss: 0.3835 - accuracy: 0.8324\n",
            "Epoch 36/150\n",
            "1902/1902 [==============================] - 3s 2ms/step - loss: 0.3832 - accuracy: 0.8326\n",
            "Epoch 37/150\n",
            "1902/1902 [==============================] - 3s 2ms/step - loss: 0.3822 - accuracy: 0.8344\n",
            "Epoch 38/150\n",
            "1902/1902 [==============================] - 3s 2ms/step - loss: 0.3806 - accuracy: 0.8360\n",
            "Epoch 39/150\n",
            "1902/1902 [==============================] - 3s 2ms/step - loss: 0.3804 - accuracy: 0.8345\n",
            "Epoch 40/150\n",
            "1902/1902 [==============================] - 3s 2ms/step - loss: 0.3785 - accuracy: 0.8352\n",
            "Epoch 41/150\n",
            "1902/1902 [==============================] - 3s 2ms/step - loss: 0.3775 - accuracy: 0.8344\n",
            "Epoch 42/150\n",
            "1902/1902 [==============================] - 3s 2ms/step - loss: 0.3753 - accuracy: 0.8364\n",
            "Epoch 43/150\n",
            "1902/1902 [==============================] - 3s 2ms/step - loss: 0.3738 - accuracy: 0.8369\n",
            "Epoch 44/150\n",
            "1902/1902 [==============================] - 3s 2ms/step - loss: 0.3722 - accuracy: 0.8377\n",
            "Epoch 45/150\n",
            "1902/1902 [==============================] - 3s 2ms/step - loss: 0.3721 - accuracy: 0.8385\n",
            "Epoch 46/150\n",
            "1902/1902 [==============================] - 3s 2ms/step - loss: 0.3732 - accuracy: 0.8380\n",
            "Epoch 47/150\n",
            "1902/1902 [==============================] - 3s 2ms/step - loss: 0.3690 - accuracy: 0.8407\n",
            "Epoch 48/150\n",
            "1902/1902 [==============================] - 3s 2ms/step - loss: 0.3715 - accuracy: 0.8407\n",
            "Epoch 49/150\n",
            "1902/1902 [==============================] - 3s 2ms/step - loss: 0.3692 - accuracy: 0.8435\n",
            "Epoch 50/150\n",
            "1902/1902 [==============================] - 3s 2ms/step - loss: 0.3677 - accuracy: 0.8437\n",
            "Epoch 51/150\n",
            "1902/1902 [==============================] - 4s 2ms/step - loss: 0.3674 - accuracy: 0.8418\n",
            "Epoch 52/150\n",
            "1902/1902 [==============================] - 3s 2ms/step - loss: 0.3660 - accuracy: 0.8438\n",
            "Epoch 53/150\n",
            "1902/1902 [==============================] - 4s 2ms/step - loss: 0.3656 - accuracy: 0.8424\n",
            "Epoch 54/150\n",
            "1902/1902 [==============================] - 3s 2ms/step - loss: 0.3648 - accuracy: 0.8433\n",
            "Epoch 55/150\n",
            "1902/1902 [==============================] - 3s 2ms/step - loss: 0.3644 - accuracy: 0.8416\n",
            "Epoch 56/150\n",
            "1902/1902 [==============================] - 3s 2ms/step - loss: 0.3604 - accuracy: 0.8442\n",
            "Epoch 57/150\n",
            "1902/1902 [==============================] - 3s 2ms/step - loss: 0.3619 - accuracy: 0.8455\n",
            "Epoch 58/150\n",
            "1902/1902 [==============================] - 3s 2ms/step - loss: 0.3590 - accuracy: 0.8481\n",
            "Epoch 59/150\n",
            "1902/1902 [==============================] - 3s 2ms/step - loss: 0.3596 - accuracy: 0.8478\n",
            "Epoch 60/150\n",
            "1902/1902 [==============================] - 3s 2ms/step - loss: 0.3573 - accuracy: 0.8475\n",
            "Epoch 61/150\n",
            "1902/1902 [==============================] - 3s 2ms/step - loss: 0.3568 - accuracy: 0.8463\n",
            "Epoch 62/150\n",
            "1902/1902 [==============================] - 3s 2ms/step - loss: 0.3558 - accuracy: 0.8476\n",
            "Epoch 63/150\n",
            "1902/1902 [==============================] - 3s 2ms/step - loss: 0.3555 - accuracy: 0.8505\n",
            "Epoch 64/150\n",
            "1902/1902 [==============================] - 3s 2ms/step - loss: 0.3557 - accuracy: 0.8484\n",
            "Epoch 65/150\n",
            "1902/1902 [==============================] - 3s 2ms/step - loss: 0.3546 - accuracy: 0.8515\n",
            "Epoch 66/150\n",
            "1902/1902 [==============================] - 3s 2ms/step - loss: 0.3525 - accuracy: 0.8527\n",
            "Epoch 67/150\n",
            "1902/1902 [==============================] - 3s 2ms/step - loss: 0.3551 - accuracy: 0.8501\n",
            "Epoch 68/150\n",
            "1902/1902 [==============================] - 3s 2ms/step - loss: 0.3535 - accuracy: 0.8504\n",
            "Epoch 69/150\n",
            "1902/1902 [==============================] - 3s 2ms/step - loss: 0.3531 - accuracy: 0.8505\n",
            "Epoch 70/150\n",
            "1902/1902 [==============================] - 3s 2ms/step - loss: 0.3513 - accuracy: 0.8517\n",
            "Epoch 71/150\n",
            "1902/1902 [==============================] - 3s 2ms/step - loss: 0.3532 - accuracy: 0.8511\n",
            "Epoch 72/150\n",
            "1902/1902 [==============================] - 3s 2ms/step - loss: 0.3517 - accuracy: 0.8525\n",
            "Epoch 73/150\n",
            "1902/1902 [==============================] - 3s 2ms/step - loss: 0.3515 - accuracy: 0.8518\n",
            "Epoch 74/150\n",
            "1902/1902 [==============================] - 3s 2ms/step - loss: 0.3489 - accuracy: 0.8543\n",
            "Epoch 75/150\n",
            "1902/1902 [==============================] - 3s 2ms/step - loss: 0.3492 - accuracy: 0.8517\n",
            "Epoch 76/150\n",
            "1902/1902 [==============================] - 3s 2ms/step - loss: 0.3511 - accuracy: 0.8514\n",
            "Epoch 77/150\n",
            "1902/1902 [==============================] - 3s 2ms/step - loss: 0.3504 - accuracy: 0.8517\n",
            "Epoch 78/150\n",
            "1902/1902 [==============================] - 3s 2ms/step - loss: 0.3488 - accuracy: 0.8538\n",
            "Epoch 79/150\n",
            "1902/1902 [==============================] - 3s 2ms/step - loss: 0.3459 - accuracy: 0.8550\n",
            "Epoch 80/150\n",
            "1902/1902 [==============================] - 3s 2ms/step - loss: 0.3476 - accuracy: 0.8516\n",
            "Epoch 81/150\n",
            "1902/1902 [==============================] - 3s 2ms/step - loss: 0.3469 - accuracy: 0.8539\n",
            "Epoch 82/150\n",
            "1902/1902 [==============================] - 3s 2ms/step - loss: 0.3444 - accuracy: 0.8529\n",
            "Epoch 83/150\n",
            "1902/1902 [==============================] - 3s 2ms/step - loss: 0.3459 - accuracy: 0.8555\n",
            "Epoch 84/150\n",
            "1902/1902 [==============================] - 3s 2ms/step - loss: 0.3457 - accuracy: 0.8553\n",
            "Epoch 85/150\n",
            "1902/1902 [==============================] - 3s 2ms/step - loss: 0.3446 - accuracy: 0.8575\n",
            "Epoch 86/150\n",
            "1902/1902 [==============================] - 3s 2ms/step - loss: 0.3444 - accuracy: 0.8578\n",
            "Epoch 87/150\n",
            "1902/1902 [==============================] - 3s 2ms/step - loss: 0.3435 - accuracy: 0.8546\n",
            "Epoch 88/150\n",
            "1902/1902 [==============================] - 3s 2ms/step - loss: 0.3429 - accuracy: 0.8544\n",
            "Epoch 89/150\n",
            "1902/1902 [==============================] - 3s 2ms/step - loss: 0.3442 - accuracy: 0.8553\n",
            "Epoch 90/150\n",
            "1902/1902 [==============================] - 3s 2ms/step - loss: 0.3424 - accuracy: 0.8563\n",
            "Epoch 91/150\n",
            "1902/1902 [==============================] - 3s 2ms/step - loss: 0.3443 - accuracy: 0.8544\n",
            "Epoch 92/150\n",
            "1902/1902 [==============================] - 3s 2ms/step - loss: 0.3421 - accuracy: 0.8572\n",
            "Epoch 93/150\n",
            "1902/1902 [==============================] - 3s 2ms/step - loss: 0.3425 - accuracy: 0.8575\n",
            "Epoch 94/150\n",
            "1902/1902 [==============================] - 3s 2ms/step - loss: 0.3414 - accuracy: 0.8553\n",
            "Epoch 95/150\n",
            "1902/1902 [==============================] - 3s 2ms/step - loss: 0.3413 - accuracy: 0.8568\n",
            "Epoch 96/150\n",
            "1902/1902 [==============================] - 3s 2ms/step - loss: 0.3387 - accuracy: 0.8593\n",
            "Epoch 97/150\n",
            "1902/1902 [==============================] - 3s 2ms/step - loss: 0.3394 - accuracy: 0.8607\n",
            "Epoch 98/150\n",
            "1902/1902 [==============================] - 3s 2ms/step - loss: 0.3435 - accuracy: 0.8570\n",
            "Epoch 99/150\n",
            "1902/1902 [==============================] - 3s 2ms/step - loss: 0.3418 - accuracy: 0.8572\n",
            "Epoch 100/150\n",
            "1902/1902 [==============================] - 3s 2ms/step - loss: 0.3418 - accuracy: 0.8574\n",
            "Epoch 101/150\n",
            "1902/1902 [==============================] - 3s 2ms/step - loss: 0.3415 - accuracy: 0.8564\n",
            "Epoch 102/150\n",
            "1902/1902 [==============================] - 3s 2ms/step - loss: 0.3384 - accuracy: 0.8608\n",
            "Epoch 103/150\n",
            "1902/1902 [==============================] - 3s 2ms/step - loss: 0.3411 - accuracy: 0.8574\n",
            "Epoch 104/150\n",
            "1902/1902 [==============================] - 3s 2ms/step - loss: 0.3398 - accuracy: 0.8562\n",
            "Epoch 105/150\n",
            "1902/1902 [==============================] - 3s 2ms/step - loss: 0.3392 - accuracy: 0.8597\n",
            "Epoch 106/150\n",
            "1902/1902 [==============================] - 3s 2ms/step - loss: 0.3413 - accuracy: 0.8595\n",
            "Epoch 107/150\n",
            "1902/1902 [==============================] - 3s 2ms/step - loss: 0.3389 - accuracy: 0.8578\n",
            "Epoch 108/150\n",
            "1902/1902 [==============================] - 3s 2ms/step - loss: 0.3396 - accuracy: 0.8569\n",
            "Epoch 109/150\n",
            "1902/1902 [==============================] - 3s 2ms/step - loss: 0.3395 - accuracy: 0.8557\n",
            "Epoch 110/150\n",
            "1902/1902 [==============================] - 3s 2ms/step - loss: 0.3385 - accuracy: 0.8568\n",
            "Epoch 111/150\n",
            "1902/1902 [==============================] - 3s 2ms/step - loss: 0.3382 - accuracy: 0.8591\n",
            "Epoch 112/150\n",
            "1902/1902 [==============================] - 3s 2ms/step - loss: 0.3384 - accuracy: 0.8586\n",
            "Epoch 113/150\n",
            "1902/1902 [==============================] - 3s 2ms/step - loss: 0.3367 - accuracy: 0.8622\n",
            "Epoch 114/150\n",
            "1902/1902 [==============================] - 3s 2ms/step - loss: 0.3387 - accuracy: 0.8569\n",
            "Epoch 115/150\n",
            "1902/1902 [==============================] - 3s 2ms/step - loss: 0.3369 - accuracy: 0.8585\n",
            "Epoch 116/150\n",
            "1902/1902 [==============================] - 3s 2ms/step - loss: 0.3379 - accuracy: 0.8608\n",
            "Epoch 117/150\n",
            "1902/1902 [==============================] - 3s 2ms/step - loss: 0.3363 - accuracy: 0.8593\n",
            "Epoch 118/150\n",
            "1902/1902 [==============================] - 3s 2ms/step - loss: 0.3368 - accuracy: 0.8592\n",
            "Epoch 119/150\n",
            "1902/1902 [==============================] - 3s 2ms/step - loss: 0.3374 - accuracy: 0.8595\n",
            "Epoch 120/150\n",
            "1902/1902 [==============================] - 4s 2ms/step - loss: 0.3344 - accuracy: 0.8608\n",
            "Epoch 121/150\n",
            "1902/1902 [==============================] - 4s 2ms/step - loss: 0.3351 - accuracy: 0.8607\n",
            "Epoch 122/150\n",
            "1902/1902 [==============================] - 4s 2ms/step - loss: 0.3363 - accuracy: 0.8588\n",
            "Epoch 123/150\n",
            "1902/1902 [==============================] - 3s 2ms/step - loss: 0.3372 - accuracy: 0.8595\n",
            "Epoch 124/150\n",
            "1902/1902 [==============================] - 3s 2ms/step - loss: 0.3373 - accuracy: 0.8586\n",
            "Epoch 125/150\n",
            "1902/1902 [==============================] - 3s 2ms/step - loss: 0.3364 - accuracy: 0.8610\n",
            "Epoch 126/150\n",
            "1902/1902 [==============================] - 3s 2ms/step - loss: 0.3367 - accuracy: 0.8587\n",
            "Epoch 127/150\n",
            "1902/1902 [==============================] - 3s 2ms/step - loss: 0.3344 - accuracy: 0.8600\n",
            "Epoch 128/150\n",
            "1902/1902 [==============================] - 3s 2ms/step - loss: 0.3345 - accuracy: 0.8598\n",
            "Epoch 129/150\n",
            "1902/1902 [==============================] - 3s 2ms/step - loss: 0.3347 - accuracy: 0.8596\n",
            "Epoch 130/150\n",
            "1902/1902 [==============================] - 3s 2ms/step - loss: 0.3348 - accuracy: 0.8587\n",
            "Epoch 131/150\n",
            "1902/1902 [==============================] - 3s 2ms/step - loss: 0.3352 - accuracy: 0.8596\n",
            "Epoch 132/150\n",
            "1902/1902 [==============================] - 3s 2ms/step - loss: 0.3337 - accuracy: 0.8609\n",
            "Epoch 133/150\n",
            "1902/1902 [==============================] - 3s 2ms/step - loss: 0.3324 - accuracy: 0.8623\n",
            "Epoch 134/150\n",
            "1902/1902 [==============================] - 3s 2ms/step - loss: 0.3347 - accuracy: 0.8586\n",
            "Epoch 135/150\n",
            "1902/1902 [==============================] - 3s 2ms/step - loss: 0.3328 - accuracy: 0.8617\n",
            "Epoch 136/150\n",
            "1902/1902 [==============================] - 3s 2ms/step - loss: 0.3351 - accuracy: 0.8607\n",
            "Epoch 137/150\n",
            "1902/1902 [==============================] - 3s 2ms/step - loss: 0.3344 - accuracy: 0.8600\n",
            "Epoch 138/150\n",
            "1902/1902 [==============================] - 3s 2ms/step - loss: 0.3338 - accuracy: 0.8626\n",
            "Epoch 139/150\n",
            "1902/1902 [==============================] - 3s 2ms/step - loss: 0.3333 - accuracy: 0.8598\n",
            "Epoch 140/150\n",
            "1902/1902 [==============================] - 3s 2ms/step - loss: 0.3338 - accuracy: 0.8608\n",
            "Epoch 141/150\n",
            "1902/1902 [==============================] - 3s 2ms/step - loss: 0.3333 - accuracy: 0.8604\n",
            "Epoch 142/150\n",
            "1902/1902 [==============================] - 3s 2ms/step - loss: 0.3334 - accuracy: 0.8611\n",
            "Epoch 143/150\n",
            "1902/1902 [==============================] - 3s 2ms/step - loss: 0.3317 - accuracy: 0.8618\n",
            "Epoch 144/150\n",
            "1902/1902 [==============================] - 3s 2ms/step - loss: 0.3319 - accuracy: 0.8610\n",
            "Epoch 145/150\n",
            "1902/1902 [==============================] - 3s 2ms/step - loss: 0.3322 - accuracy: 0.8612\n",
            "Epoch 146/150\n",
            "1902/1902 [==============================] - 3s 2ms/step - loss: 0.3338 - accuracy: 0.8607\n",
            "Epoch 147/150\n",
            "1902/1902 [==============================] - 3s 2ms/step - loss: 0.3313 - accuracy: 0.8640\n",
            "Epoch 148/150\n",
            "1902/1902 [==============================] - 3s 2ms/step - loss: 0.3325 - accuracy: 0.8601\n",
            "Epoch 149/150\n",
            "1902/1902 [==============================] - 3s 2ms/step - loss: 0.3334 - accuracy: 0.8616\n",
            "Epoch 150/150\n",
            "1902/1902 [==============================] - 3s 2ms/step - loss: 0.3311 - accuracy: 0.8634\n"
          ]
        },
        {
          "output_type": "execute_result",
          "data": {
            "text/plain": [
              "<keras.callbacks.History at 0x7fda1111e150>"
            ]
          },
          "metadata": {},
          "execution_count": 93
        }
      ]
    },
    {
      "cell_type": "code",
      "source": [
        "# evaluate the keras model\n",
        "accuracy = model.evaluate(X, y)"
      ],
      "metadata": {
        "colab": {
          "base_uri": "https://localhost:8080/"
        },
        "id": "JyRgLPTumkuD",
        "outputId": "97ff73fb-3fae-4d7e-d3be-eeda500cf406"
      },
      "execution_count": null,
      "outputs": [
        {
          "output_type": "stream",
          "name": "stdout",
          "text": [
            "595/595 [==============================] - 1s 1ms/step - loss: 0.3180 - accuracy: 0.8695\n"
          ]
        }
      ]
    },
    {
      "cell_type": "code",
      "source": [
        "accuracy"
      ],
      "metadata": {
        "colab": {
          "base_uri": "https://localhost:8080/"
        },
        "id": "C3m4XSorupXn",
        "outputId": "8da2a9d2-4db4-458a-88a8-70a104de1c29"
      },
      "execution_count": null,
      "outputs": [
        {
          "output_type": "execute_result",
          "data": {
            "text/plain": [
              "[0.3180217444896698, 0.869505763053894]"
            ]
          },
          "metadata": {},
          "execution_count": 96
        }
      ]
    },
    {
      "cell_type": "code",
      "source": [
        "# make probability predictions with the model\n",
        "predictions = model.predict(X)\n",
        "# round predictions \n",
        "rounded = [round(x[0]) for x in predictions]"
      ],
      "metadata": {
        "id": "WPhb0DM8zJVT"
      },
      "execution_count": null,
      "outputs": []
    },
    {
      "cell_type": "code",
      "source": [
        "# make class predictions with the model\n",
        "predictions = (model.predict(X) > 0.5).astype(int)"
      ],
      "metadata": {
        "id": "OTOmswt30DhX"
      },
      "execution_count": null,
      "outputs": []
    },
    {
      "cell_type": "code",
      "source": [
        "predictions"
      ],
      "metadata": {
        "colab": {
          "base_uri": "https://localhost:8080/"
        },
        "id": "25QrUY1F0G4e",
        "outputId": "39cea9dc-210c-442a-97af-62e99be3e5a5"
      },
      "execution_count": null,
      "outputs": [
        {
          "output_type": "execute_result",
          "data": {
            "text/plain": [
              "array([[0],\n",
              "       [0],\n",
              "       [0],\n",
              "       ...,\n",
              "       [0],\n",
              "       [0],\n",
              "       [0]])"
            ]
          },
          "metadata": {},
          "execution_count": 144
        }
      ]
    },
    {
      "cell_type": "code",
      "source": [
        "accuracy_score(y,predictions)"
      ],
      "metadata": {
        "colab": {
          "base_uri": "https://localhost:8080/"
        },
        "id": "YN6cROgO0VEX",
        "outputId": "ebbf218d-614c-4c6a-9bf2-5e9d37b961cf"
      },
      "execution_count": null,
      "outputs": [
        {
          "output_type": "execute_result",
          "data": {
            "text/plain": [
              "0.648422712933754"
            ]
          },
          "metadata": {},
          "execution_count": 145
        }
      ]
    },
    {
      "cell_type": "code",
      "source": [
        "f1_score(y,predictions)"
      ],
      "metadata": {
        "colab": {
          "base_uri": "https://localhost:8080/"
        },
        "id": "2V4_vs1O0bu2",
        "outputId": "6e93fed1-bcfa-49c2-ff6f-71c0fb6ae5aa"
      },
      "execution_count": null,
      "outputs": [
        {
          "output_type": "execute_result",
          "data": {
            "text/plain": [
              "0.0002989983555090447"
            ]
          },
          "metadata": {},
          "execution_count": 146
        }
      ]
    },
    {
      "cell_type": "code",
      "source": [],
      "metadata": {
        "id": "0sNmj2jc0hTO"
      },
      "execution_count": null,
      "outputs": []
    }
  ]
}